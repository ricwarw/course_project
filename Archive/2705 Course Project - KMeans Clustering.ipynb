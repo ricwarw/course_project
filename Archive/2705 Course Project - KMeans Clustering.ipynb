{
 "cells": [
  {
   "cell_type": "code",
   "execution_count": 51,
   "metadata": {
    "collapsed": true
   },
   "outputs": [],
   "source": [
    "#import magic and libraries\n",
    "%matplotlib inline\n",
    "\n",
    "import pandas as pd\n",
    "import numpy as np\n",
    "import matplotlib.pyplot as plt\n",
    "plt.style.use('ggplot')"
   ]
  },
  {
   "cell_type": "code",
   "execution_count": 52,
   "metadata": {
    "collapsed": false
   },
   "outputs": [
    {
     "name": "stderr",
     "output_type": "stream",
     "text": [
      "/anaconda/lib/python2.7/site-packages/ipykernel/__main__.py:11: FutureWarning: convert_objects is deprecated.  Use the data-type specific converters pd.to_datetime, pd.to_timedelta and pd.to_numeric.\n"
     ]
    },
    {
     "data": {
      "text/html": [
       "<div>\n",
       "<table border=\"1\" class=\"dataframe\">\n",
       "  <thead>\n",
       "    <tr style=\"text-align: right;\">\n",
       "      <th></th>\n",
       "      <th>num_streets</th>\n",
       "      <th>collection_amount</th>\n",
       "      <th>donation_amount</th>\n",
       "      <th>total_received</th>\n",
       "      <th>age</th>\n",
       "      <th>gender</th>\n",
       "      <th>weekends</th>\n",
       "      <th>profitable</th>\n",
       "      <th>Acq</th>\n",
       "      <th>tax individuals</th>\n",
       "      <th>...</th>\n",
       "      <th>ID_NS_OcMngr</th>\n",
       "      <th>ID_NS_OcProf</th>\n",
       "      <th>ID_NS_OcTechTrdW</th>\n",
       "      <th>ID_NS_OcComPerS</th>\n",
       "      <th>ID_NS_OcClericAdm</th>\n",
       "      <th>ID_NS_OcSalesWk</th>\n",
       "      <th>ID_NS_OcMacOp_Driv</th>\n",
       "      <th>ID_NS_OcLab</th>\n",
       "      <th>ID_NS_OcID_NS</th>\n",
       "      <th>ID_NS_Tot</th>\n",
       "    </tr>\n",
       "  </thead>\n",
       "  <tbody>\n",
       "    <tr>\n",
       "      <th>0</th>\n",
       "      <td>2</td>\n",
       "      <td>521.5</td>\n",
       "      <td>0</td>\n",
       "      <td>521.5</td>\n",
       "      <td>67</td>\n",
       "      <td>1</td>\n",
       "      <td>4</td>\n",
       "      <td>1</td>\n",
       "      <td>1</td>\n",
       "      <td>16956</td>\n",
       "      <td>...</td>\n",
       "      <td>8</td>\n",
       "      <td>20</td>\n",
       "      <td>27</td>\n",
       "      <td>15</td>\n",
       "      <td>15</td>\n",
       "      <td>10</td>\n",
       "      <td>19</td>\n",
       "      <td>29</td>\n",
       "      <td>99</td>\n",
       "      <td>242</td>\n",
       "    </tr>\n",
       "    <tr>\n",
       "      <th>1</th>\n",
       "      <td>2</td>\n",
       "      <td>250.0</td>\n",
       "      <td>0</td>\n",
       "      <td>250.0</td>\n",
       "      <td>57</td>\n",
       "      <td>1</td>\n",
       "      <td>4</td>\n",
       "      <td>1</td>\n",
       "      <td>1</td>\n",
       "      <td>16956</td>\n",
       "      <td>...</td>\n",
       "      <td>8</td>\n",
       "      <td>20</td>\n",
       "      <td>27</td>\n",
       "      <td>15</td>\n",
       "      <td>15</td>\n",
       "      <td>10</td>\n",
       "      <td>19</td>\n",
       "      <td>29</td>\n",
       "      <td>99</td>\n",
       "      <td>242</td>\n",
       "    </tr>\n",
       "    <tr>\n",
       "      <th>2</th>\n",
       "      <td>4</td>\n",
       "      <td>200.0</td>\n",
       "      <td>0</td>\n",
       "      <td>200.0</td>\n",
       "      <td>53</td>\n",
       "      <td>1</td>\n",
       "      <td>4</td>\n",
       "      <td>1</td>\n",
       "      <td>0</td>\n",
       "      <td>16956</td>\n",
       "      <td>...</td>\n",
       "      <td>8</td>\n",
       "      <td>20</td>\n",
       "      <td>27</td>\n",
       "      <td>15</td>\n",
       "      <td>15</td>\n",
       "      <td>10</td>\n",
       "      <td>19</td>\n",
       "      <td>29</td>\n",
       "      <td>99</td>\n",
       "      <td>242</td>\n",
       "    </tr>\n",
       "    <tr>\n",
       "      <th>3</th>\n",
       "      <td>2</td>\n",
       "      <td>140.0</td>\n",
       "      <td>0</td>\n",
       "      <td>140.0</td>\n",
       "      <td>59</td>\n",
       "      <td>0</td>\n",
       "      <td>4</td>\n",
       "      <td>1</td>\n",
       "      <td>1</td>\n",
       "      <td>16956</td>\n",
       "      <td>...</td>\n",
       "      <td>8</td>\n",
       "      <td>20</td>\n",
       "      <td>27</td>\n",
       "      <td>15</td>\n",
       "      <td>15</td>\n",
       "      <td>10</td>\n",
       "      <td>19</td>\n",
       "      <td>29</td>\n",
       "      <td>99</td>\n",
       "      <td>242</td>\n",
       "    </tr>\n",
       "    <tr>\n",
       "      <th>4</th>\n",
       "      <td>2</td>\n",
       "      <td>140.0</td>\n",
       "      <td>0</td>\n",
       "      <td>140.0</td>\n",
       "      <td>74</td>\n",
       "      <td>0</td>\n",
       "      <td>4</td>\n",
       "      <td>1</td>\n",
       "      <td>0</td>\n",
       "      <td>16956</td>\n",
       "      <td>...</td>\n",
       "      <td>8</td>\n",
       "      <td>20</td>\n",
       "      <td>27</td>\n",
       "      <td>15</td>\n",
       "      <td>15</td>\n",
       "      <td>10</td>\n",
       "      <td>19</td>\n",
       "      <td>29</td>\n",
       "      <td>99</td>\n",
       "      <td>242</td>\n",
       "    </tr>\n",
       "  </tbody>\n",
       "</table>\n",
       "<p>5 rows × 1203 columns</p>\n",
       "</div>"
      ],
      "text/plain": [
       "   num_streets  collection_amount  donation_amount  total_received  age  \\\n",
       "0            2              521.5                0           521.5   67   \n",
       "1            2              250.0                0           250.0   57   \n",
       "2            4              200.0                0           200.0   53   \n",
       "3            2              140.0                0           140.0   59   \n",
       "4            2              140.0                0           140.0   74   \n",
       "\n",
       "   gender  weekends  profitable  Acq  tax individuals    ...      \\\n",
       "0       1         4           1    1            16956    ...       \n",
       "1       1         4           1    1            16956    ...       \n",
       "2       1         4           1    0            16956    ...       \n",
       "3       0         4           1    1            16956    ...       \n",
       "4       0         4           1    0            16956    ...       \n",
       "\n",
       "   ID_NS_OcMngr  ID_NS_OcProf  ID_NS_OcTechTrdW  ID_NS_OcComPerS  \\\n",
       "0             8            20                27               15   \n",
       "1             8            20                27               15   \n",
       "2             8            20                27               15   \n",
       "3             8            20                27               15   \n",
       "4             8            20                27               15   \n",
       "\n",
       "   ID_NS_OcClericAdm  ID_NS_OcSalesWk  ID_NS_OcMacOp_Driv  ID_NS_OcLab  \\\n",
       "0                 15               10                  19           29   \n",
       "1                 15               10                  19           29   \n",
       "2                 15               10                  19           29   \n",
       "3                 15               10                  19           29   \n",
       "4                 15               10                  19           29   \n",
       "\n",
       "   ID_NS_OcID_NS  ID_NS_Tot  \n",
       "0             99        242  \n",
       "1             99        242  \n",
       "2             99        242  \n",
       "3             99        242  \n",
       "4             99        242  \n",
       "\n",
       "[5 rows x 1203 columns]"
      ]
     },
     "execution_count": 52,
     "metadata": {},
     "output_type": "execute_result"
    }
   ],
   "source": [
    "#import data set and clean up\n",
    "charity = pd.read_csv('Charity.csv')\n",
    "dummies = pd.get_dummies(charity.RenewalsOrAcq)\n",
    "charity = pd.concat([charity, dummies], axis=1)\n",
    "charity.drop(['Renewals'], inplace=True, axis=1)\n",
    "charity.drop(['dob'], inplace=True, axis=1)\n",
    "charity.drop(['RenewalsOrAcq'], inplace=True, axis=1)\n",
    "charity.drop(['suburb'], inplace=True, axis=1)\n",
    "charity.drop(['state'], inplace=True, axis=1)\n",
    "charity = charity.dropna(subset=['age'])\n",
    "charity['age'] = charity['age'].convert_objects(convert_numeric=True)\n",
    "charity = charity.dropna(subset=['age'])\n",
    "charity['postcode'] = charity['postcode'].astype(str)\n",
    "charity.postcode.dtype\n",
    "tax = pd.read_csv('2014tax2.csv')\n",
    "tax['postcode'] = tax['postcode'].astype(str)\n",
    "charity_new = pd.merge(charity, tax, on='postcode')\n",
    "charity_new.head()\n",
    "burs = pd.read_csv('abs2011combo.csv')\n",
    "burs['postcode'] = burs['postcode'].astype(str)\n",
    "charity_plus = pd.merge(charity_new, burs, on='postcode')\n",
    "charity_plus.drop(['postcode'], inplace=True, axis=1)\n",
    "charity_plus.head()"
   ]
  },
  {
   "cell_type": "code",
   "execution_count": 53,
   "metadata": {
    "collapsed": false
   },
   "outputs": [],
   "source": [
    "#have a look at the data\n",
    "#charity_plus.describe(include='all')"
   ]
  },
  {
   "cell_type": "code",
   "execution_count": 54,
   "metadata": {
    "collapsed": false
   },
   "outputs": [],
   "source": [
    "#K means clustering\n",
    "from sklearn.cluster import KMeans\n",
    "\n",
    "np.random.seed(2)\n",
    "\n",
    "est = KMeans(n_clusters=5, init='random')\n",
    "est.fit(charity_plus)\n",
    "y_kmeans = est.predict(charity_plus)\n",
    "\n"
   ]
  },
  {
   "cell_type": "code",
   "execution_count": 55,
   "metadata": {
    "collapsed": false
   },
   "outputs": [
    {
     "data": {
      "text/plain": [
       "<matplotlib.axes._subplots.AxesSubplot at 0x12ba8ab10>"
      ]
     },
     "execution_count": 55,
     "metadata": {},
     "output_type": "execute_result"
    },
    {
     "data": {
      "text/plain": [
       "<matplotlib.figure.Figure at 0x12b8774d0>"
      ]
     },
     "metadata": {},
     "output_type": "display_data"
    },
    {
     "data": {
      "image/png": "[encoded data removed]",
      "text/plain": [
       "<matplotlib.figure.Figure at 0x12b877dd0>"
      ]
     },
     "metadata": {},
     "output_type": "display_data"
    }
   ],
   "source": [
    "#plot the clusters\n",
    "colors = np.array(['#FF0054','#FBD039','#23C2BC','#0066ff', '#009900'])\n",
    "plt.figure()\n",
    "charity_plus.plot(kind='scatter', x='avg income', y='total_received',c=colors[y_kmeans])"
   ]
  },
  {
   "cell_type": "code",
   "execution_count": 56,
   "metadata": {
    "collapsed": false
   },
   "outputs": [],
   "source": [
    "#add clusters back to data\n",
    "charity_plus['cluster'] = est.predict(charity_plus)\n"
   ]
  },
  {
   "cell_type": "code",
   "execution_count": 57,
   "metadata": {
    "collapsed": true
   },
   "outputs": [],
   "source": [
    "charity_plus['postcode'] = charity['postcode']"
   ]
  },
  {
   "cell_type": "code",
   "execution_count": 58,
   "metadata": {
    "collapsed": false
   },
   "outputs": [
    {
     "data": {
      "text/html": [
       "<div>\n",
       "<table border=\"1\" class=\"dataframe\">\n",
       "  <thead>\n",
       "    <tr style=\"text-align: right;\">\n",
       "      <th></th>\n",
       "      <th>num_streets</th>\n",
       "      <th>age</th>\n",
       "      <th>Acq</th>\n",
       "      <th>avg donation value</th>\n",
       "      <th>profitable</th>\n",
       "      <th>cluster</th>\n",
       "      <th>avg income</th>\n",
       "      <th>collection_amount</th>\n",
       "      <th>donation_amount</th>\n",
       "      <th>total_received</th>\n",
       "    </tr>\n",
       "  </thead>\n",
       "  <tbody>\n",
       "    <tr>\n",
       "      <th>count</th>\n",
       "      <td>26523.000000</td>\n",
       "      <td>26523.000000</td>\n",
       "      <td>26523.000000</td>\n",
       "      <td>26523.000000</td>\n",
       "      <td>26523.000000</td>\n",
       "      <td>26523.000000</td>\n",
       "      <td>26523.000000</td>\n",
       "      <td>26523.000000</td>\n",
       "      <td>26523.000000</td>\n",
       "      <td>26523.000000</td>\n",
       "    </tr>\n",
       "    <tr>\n",
       "      <th>mean</th>\n",
       "      <td>2.883610</td>\n",
       "      <td>62.458621</td>\n",
       "      <td>0.614372</td>\n",
       "      <td>520.477313</td>\n",
       "      <td>0.413377</td>\n",
       "      <td>2.200694</td>\n",
       "      <td>74126.849441</td>\n",
       "      <td>77.820176</td>\n",
       "      <td>3.724618</td>\n",
       "      <td>81.544794</td>\n",
       "    </tr>\n",
       "    <tr>\n",
       "      <th>std</th>\n",
       "      <td>2.548894</td>\n",
       "      <td>14.072699</td>\n",
       "      <td>0.486752</td>\n",
       "      <td>684.123478</td>\n",
       "      <td>0.492449</td>\n",
       "      <td>1.791111</td>\n",
       "      <td>19321.577981</td>\n",
       "      <td>70.843846</td>\n",
       "      <td>18.707591</td>\n",
       "      <td>70.658179</td>\n",
       "    </tr>\n",
       "    <tr>\n",
       "      <th>min</th>\n",
       "      <td>0.000000</td>\n",
       "      <td>0.000000</td>\n",
       "      <td>0.000000</td>\n",
       "      <td>109.177419</td>\n",
       "      <td>0.000000</td>\n",
       "      <td>0.000000</td>\n",
       "      <td>45580.474070</td>\n",
       "      <td>-414.950000</td>\n",
       "      <td>-150.000000</td>\n",
       "      <td>-500.000000</td>\n",
       "    </tr>\n",
       "    <tr>\n",
       "      <th>25%</th>\n",
       "      <td>1.000000</td>\n",
       "      <td>54.000000</td>\n",
       "      <td>0.000000</td>\n",
       "      <td>296.293056</td>\n",
       "      <td>0.000000</td>\n",
       "      <td>0.000000</td>\n",
       "      <td>62471.509520</td>\n",
       "      <td>37.000000</td>\n",
       "      <td>0.000000</td>\n",
       "      <td>40.000000</td>\n",
       "    </tr>\n",
       "    <tr>\n",
       "      <th>50%</th>\n",
       "      <td>2.000000</td>\n",
       "      <td>65.000000</td>\n",
       "      <td>1.000000</td>\n",
       "      <td>365.370730</td>\n",
       "      <td>0.000000</td>\n",
       "      <td>2.000000</td>\n",
       "      <td>68325.239040</td>\n",
       "      <td>61.000000</td>\n",
       "      <td>0.000000</td>\n",
       "      <td>64.000000</td>\n",
       "    </tr>\n",
       "    <tr>\n",
       "      <th>75%</th>\n",
       "      <td>3.000000</td>\n",
       "      <td>72.000000</td>\n",
       "      <td>1.000000</td>\n",
       "      <td>514.300380</td>\n",
       "      <td>1.000000</td>\n",
       "      <td>4.000000</td>\n",
       "      <td>79465.611680</td>\n",
       "      <td>100.000000</td>\n",
       "      <td>0.000000</td>\n",
       "      <td>101.000000</td>\n",
       "    </tr>\n",
       "    <tr>\n",
       "      <th>max</th>\n",
       "      <td>40.000000</td>\n",
       "      <td>103.000000</td>\n",
       "      <td>1.000000</td>\n",
       "      <td>21706.094200</td>\n",
       "      <td>1.000000</td>\n",
       "      <td>4.000000</td>\n",
       "      <td>261782.319000</td>\n",
       "      <td>2123.000000</td>\n",
       "      <td>1000.000000</td>\n",
       "      <td>2123.000000</td>\n",
       "    </tr>\n",
       "  </tbody>\n",
       "</table>\n",
       "</div>"
      ],
      "text/plain": [
       "        num_streets           age           Acq  avg donation value  \\\n",
       "count  26523.000000  26523.000000  26523.000000        26523.000000   \n",
       "mean       2.883610     62.458621      0.614372          520.477313   \n",
       "std        2.548894     14.072699      0.486752          684.123478   \n",
       "min        0.000000      0.000000      0.000000          109.177419   \n",
       "25%        1.000000     54.000000      0.000000          296.293056   \n",
       "50%        2.000000     65.000000      1.000000          365.370730   \n",
       "75%        3.000000     72.000000      1.000000          514.300380   \n",
       "max       40.000000    103.000000      1.000000        21706.094200   \n",
       "\n",
       "         profitable       cluster     avg income  collection_amount  \\\n",
       "count  26523.000000  26523.000000   26523.000000       26523.000000   \n",
       "mean       0.413377      2.200694   74126.849441          77.820176   \n",
       "std        0.492449      1.791111   19321.577981          70.843846   \n",
       "min        0.000000      0.000000   45580.474070        -414.950000   \n",
       "25%        0.000000      0.000000   62471.509520          37.000000   \n",
       "50%        0.000000      2.000000   68325.239040          61.000000   \n",
       "75%        1.000000      4.000000   79465.611680         100.000000   \n",
       "max        1.000000      4.000000  261782.319000        2123.000000   \n",
       "\n",
       "       donation_amount  total_received  \n",
       "count     26523.000000    26523.000000  \n",
       "mean          3.724618       81.544794  \n",
       "std          18.707591       70.658179  \n",
       "min        -150.000000     -500.000000  \n",
       "25%           0.000000       40.000000  \n",
       "50%           0.000000       64.000000  \n",
       "75%           0.000000      101.000000  \n",
       "max        1000.000000     2123.000000  "
      ]
     },
     "execution_count": 58,
     "metadata": {},
     "output_type": "execute_result"
    }
   ],
   "source": [
    "#create smaller df for export for visualisation\n",
    "col_list = ['num_streets','age','Acq', 'avg donation value','profitable','cluster','avg income','collection_amount','donation_amount','total_received','postcode']\n",
    "#col_l2 = X[250,938,937,37,40]\n",
    "exportcluster = charity_plus[col_list]\n",
    "exportcluster.describe()"
   ]
  },
  {
   "cell_type": "code",
   "execution_count": 59,
   "metadata": {
    "collapsed": true
   },
   "outputs": [],
   "source": [
    "exportcluster.to_csv('exportcluster2.csv')"
   ]
  },
  {
   "cell_type": "code",
   "execution_count": 40,
   "metadata": {
    "collapsed": false
   },
   "outputs": [
    {
     "data": {
      "text/plain": [
       "array([[   2.67746931,   78.37008406,    3.42237584, ...,   34.44486229,\n",
       "          84.96073443,  295.28647274],\n",
       "       [   2.49512843,   90.54464128,    5.42590788, ...,   45.87953942,\n",
       "         118.0469442 ,  427.99734278],\n",
       "       [   2.2011552 ,   85.43283777,    4.66083375, ...,   44.93897539,\n",
       "         113.01205424,  412.76343546],\n",
       "       [   1.94230769,  114.996875  ,   12.58605769, ...,    6.14903846,\n",
       "          53.50480769,  222.55288462],\n",
       "       [   3.31242292,   73.10226096,    3.33331826, ...,   16.41067171,\n",
       "          36.92246979,  120.13080654]])"
      ]
     },
     "execution_count": 40,
     "metadata": {},
     "output_type": "execute_result"
    }
   ],
   "source": [
    "est.cluster_centers_"
   ]
  },
  {
   "cell_type": "code",
   "execution_count": 41,
   "metadata": {
    "collapsed": false
   },
   "outputs": [
    {
     "data": {
      "text/plain": [
       "array([0, 0, 0, ..., 4, 4, 4], dtype=int32)"
      ]
     },
     "execution_count": 41,
     "metadata": {},
     "output_type": "execute_result"
    }
   ],
   "source": [
    "est.labels_"
   ]
  },
  {
   "cell_type": "code",
   "execution_count": 42,
   "metadata": {
    "collapsed": false
   },
   "outputs": [
    {
     "data": {
      "text/plain": [
       "20025606744861164.0"
      ]
     },
     "execution_count": 42,
     "metadata": {},
     "output_type": "execute_result"
    }
   ],
   "source": [
    "est.inertia_"
   ]
  },
  {
   "cell_type": "code",
   "execution_count": 43,
   "metadata": {
    "collapsed": true
   },
   "outputs": [],
   "source": [
    "centroids = est.cluster_centers_"
   ]
  },
  {
   "cell_type": "code",
   "execution_count": 44,
   "metadata": {
    "collapsed": false
   },
   "outputs": [
    {
     "data": {
      "text/plain": [
       "array([[   2.67746931,   78.37008406,    3.42237584, ...,   34.44486229,\n",
       "          84.96073443,  295.28647274],\n",
       "       [   2.49512843,   90.54464128,    5.42590788, ...,   45.87953942,\n",
       "         118.0469442 ,  427.99734278],\n",
       "       [   2.2011552 ,   85.43283777,    4.66083375, ...,   44.93897539,\n",
       "         113.01205424,  412.76343546],\n",
       "       [   1.94230769,  114.996875  ,   12.58605769, ...,    6.14903846,\n",
       "          53.50480769,  222.55288462],\n",
       "       [   3.31242292,   73.10226096,    3.33331826, ...,   16.41067171,\n",
       "          36.92246979,  120.13080654]])"
      ]
     },
     "execution_count": 44,
     "metadata": {},
     "output_type": "execute_result"
    }
   ],
   "source": [
    "centroids"
   ]
  },
  {
   "cell_type": "code",
   "execution_count": 45,
   "metadata": {
    "collapsed": false
   },
   "outputs": [],
   "source": [
    "headers = charity_plus.drop(['cluster'], inplace=True, axis=1)"
   ]
  },
  {
   "cell_type": "code",
   "execution_count": 46,
   "metadata": {
    "collapsed": false
   },
   "outputs": [
    {
     "data": {
      "text/html": [
       "<div>\n",
       "<table border=\"1\" class=\"dataframe\">\n",
       "  <thead>\n",
       "    <tr style=\"text-align: right;\">\n",
       "      <th></th>\n",
       "      <th>num_streets</th>\n",
       "      <th>collection_amount</th>\n",
       "      <th>donation_amount</th>\n",
       "      <th>total_received</th>\n",
       "      <th>age</th>\n",
       "      <th>gender</th>\n",
       "      <th>weekends</th>\n",
       "      <th>profitable</th>\n",
       "      <th>Acq</th>\n",
       "      <th>tax individuals</th>\n",
       "      <th>...</th>\n",
       "      <th>ID_NS_OcMngr</th>\n",
       "      <th>ID_NS_OcProf</th>\n",
       "      <th>ID_NS_OcTechTrdW</th>\n",
       "      <th>ID_NS_OcComPerS</th>\n",
       "      <th>ID_NS_OcClericAdm</th>\n",
       "      <th>ID_NS_OcSalesWk</th>\n",
       "      <th>ID_NS_OcMacOp_Driv</th>\n",
       "      <th>ID_NS_OcLab</th>\n",
       "      <th>ID_NS_OcID_NS</th>\n",
       "      <th>ID_NS_Tot</th>\n",
       "    </tr>\n",
       "  </thead>\n",
       "  <tbody>\n",
       "    <tr>\n",
       "      <th>0</th>\n",
       "      <td>2.677469</td>\n",
       "      <td>78.370084</td>\n",
       "      <td>3.422376</td>\n",
       "      <td>81.792460</td>\n",
       "      <td>61.853114</td>\n",
       "      <td>0.652140</td>\n",
       "      <td>3.252627</td>\n",
       "      <td>0.419644</td>\n",
       "      <td>0.622387</td>\n",
       "      <td>12841.285698</td>\n",
       "      <td>...</td>\n",
       "      <td>23.506692</td>\n",
       "      <td>26.643402</td>\n",
       "      <td>38.586771</td>\n",
       "      <td>15.554916</td>\n",
       "      <td>36.945360</td>\n",
       "      <td>15.743834</td>\n",
       "      <td>18.899900</td>\n",
       "      <td>34.444862</td>\n",
       "      <td>84.960734</td>\n",
       "      <td>295.286473</td>\n",
       "    </tr>\n",
       "    <tr>\n",
       "      <th>1</th>\n",
       "      <td>2.495128</td>\n",
       "      <td>90.544641</td>\n",
       "      <td>5.425908</td>\n",
       "      <td>95.970549</td>\n",
       "      <td>62.958370</td>\n",
       "      <td>0.646590</td>\n",
       "      <td>3.232950</td>\n",
       "      <td>0.492471</td>\n",
       "      <td>0.603189</td>\n",
       "      <td>20243.121346</td>\n",
       "      <td>...</td>\n",
       "      <td>41.079717</td>\n",
       "      <td>54.065545</td>\n",
       "      <td>41.130204</td>\n",
       "      <td>26.900797</td>\n",
       "      <td>56.408326</td>\n",
       "      <td>20.976971</td>\n",
       "      <td>23.509300</td>\n",
       "      <td>45.879539</td>\n",
       "      <td>118.046944</td>\n",
       "      <td>427.997343</td>\n",
       "    </tr>\n",
       "    <tr>\n",
       "      <th>2</th>\n",
       "      <td>2.201155</td>\n",
       "      <td>85.432838</td>\n",
       "      <td>4.660834</td>\n",
       "      <td>90.093672</td>\n",
       "      <td>61.903566</td>\n",
       "      <td>0.654696</td>\n",
       "      <td>3.388749</td>\n",
       "      <td>0.467102</td>\n",
       "      <td>0.607735</td>\n",
       "      <td>18942.715721</td>\n",
       "      <td>...</td>\n",
       "      <td>35.058262</td>\n",
       "      <td>42.316675</td>\n",
       "      <td>54.045455</td>\n",
       "      <td>21.269211</td>\n",
       "      <td>54.072577</td>\n",
       "      <td>21.402813</td>\n",
       "      <td>26.647413</td>\n",
       "      <td>44.938975</td>\n",
       "      <td>113.012054</td>\n",
       "      <td>412.763435</td>\n",
       "    </tr>\n",
       "    <tr>\n",
       "      <th>3</th>\n",
       "      <td>1.942308</td>\n",
       "      <td>114.996875</td>\n",
       "      <td>12.586058</td>\n",
       "      <td>127.582933</td>\n",
       "      <td>66.028846</td>\n",
       "      <td>0.682692</td>\n",
       "      <td>3.913462</td>\n",
       "      <td>0.610577</td>\n",
       "      <td>0.735577</td>\n",
       "      <td>10833.485577</td>\n",
       "      <td>...</td>\n",
       "      <td>37.442308</td>\n",
       "      <td>49.879808</td>\n",
       "      <td>12.533654</td>\n",
       "      <td>12.822115</td>\n",
       "      <td>32.932692</td>\n",
       "      <td>13.985577</td>\n",
       "      <td>3.302885</td>\n",
       "      <td>6.149038</td>\n",
       "      <td>53.504808</td>\n",
       "      <td>222.552885</td>\n",
       "    </tr>\n",
       "    <tr>\n",
       "      <th>4</th>\n",
       "      <td>3.312423</td>\n",
       "      <td>73.102261</td>\n",
       "      <td>3.333318</td>\n",
       "      <td>76.435579</td>\n",
       "      <td>62.982981</td>\n",
       "      <td>0.655348</td>\n",
       "      <td>3.415934</td>\n",
       "      <td>0.380416</td>\n",
       "      <td>0.609554</td>\n",
       "      <td>5000.814273</td>\n",
       "      <td>...</td>\n",
       "      <td>8.432624</td>\n",
       "      <td>8.467977</td>\n",
       "      <td>16.277481</td>\n",
       "      <td>6.207186</td>\n",
       "      <td>13.138699</td>\n",
       "      <td>5.430650</td>\n",
       "      <td>8.843049</td>\n",
       "      <td>16.410672</td>\n",
       "      <td>36.922470</td>\n",
       "      <td>120.130807</td>\n",
       "    </tr>\n",
       "  </tbody>\n",
       "</table>\n",
       "<p>5 rows × 1203 columns</p>\n",
       "</div>"
      ],
      "text/plain": [
       "   num_streets  collection_amount  donation_amount  total_received        age  \\\n",
       "0     2.677469          78.370084         3.422376       81.792460  61.853114   \n",
       "1     2.495128          90.544641         5.425908       95.970549  62.958370   \n",
       "2     2.201155          85.432838         4.660834       90.093672  61.903566   \n",
       "3     1.942308         114.996875        12.586058      127.582933  66.028846   \n",
       "4     3.312423          73.102261         3.333318       76.435579  62.982981   \n",
       "\n",
       "     gender  weekends  profitable       Acq  tax individuals     ...      \\\n",
       "0  0.652140  3.252627    0.419644  0.622387     12841.285698     ...       \n",
       "1  0.646590  3.232950    0.492471  0.603189     20243.121346     ...       \n",
       "2  0.654696  3.388749    0.467102  0.607735     18942.715721     ...       \n",
       "3  0.682692  3.913462    0.610577  0.735577     10833.485577     ...       \n",
       "4  0.655348  3.415934    0.380416  0.609554      5000.814273     ...       \n",
       "\n",
       "   ID_NS_OcMngr  ID_NS_OcProf  ID_NS_OcTechTrdW  ID_NS_OcComPerS  \\\n",
       "0     23.506692     26.643402         38.586771        15.554916   \n",
       "1     41.079717     54.065545         41.130204        26.900797   \n",
       "2     35.058262     42.316675         54.045455        21.269211   \n",
       "3     37.442308     49.879808         12.533654        12.822115   \n",
       "4      8.432624      8.467977         16.277481         6.207186   \n",
       "\n",
       "   ID_NS_OcClericAdm  ID_NS_OcSalesWk  ID_NS_OcMacOp_Driv  ID_NS_OcLab  \\\n",
       "0          36.945360        15.743834           18.899900    34.444862   \n",
       "1          56.408326        20.976971           23.509300    45.879539   \n",
       "2          54.072577        21.402813           26.647413    44.938975   \n",
       "3          32.932692        13.985577            3.302885     6.149038   \n",
       "4          13.138699         5.430650            8.843049    16.410672   \n",
       "\n",
       "   ID_NS_OcID_NS   ID_NS_Tot  \n",
       "0      84.960734  295.286473  \n",
       "1     118.046944  427.997343  \n",
       "2     113.012054  412.763435  \n",
       "3      53.504808  222.552885  \n",
       "4      36.922470  120.130807  \n",
       "\n",
       "[5 rows x 1203 columns]"
      ]
     },
     "execution_count": 46,
     "metadata": {},
     "output_type": "execute_result"
    }
   ],
   "source": [
    "#centroids2 = pd.DataFrame(centroids, charity_plus.columns.values)\n",
    "centroids2 = pd.DataFrame(centroids, columns=charity_plus.columns)\n",
    "centroids2"
   ]
  },
  {
   "cell_type": "code",
   "execution_count": 47,
   "metadata": {
    "collapsed": false
   },
   "outputs": [
    {
     "data": {
      "text/plain": [
       "0     75122.891990\n",
       "1    105306.699937\n",
       "2     83095.485339\n",
       "3    156702.097624\n",
       "4     66143.947881\n",
       "Name: avg income, dtype: float64"
      ]
     },
     "execution_count": 47,
     "metadata": {},
     "output_type": "execute_result"
    }
   ],
   "source": [
    "centroids2['avg income']"
   ]
  },
  {
   "cell_type": "code",
   "execution_count": null,
   "metadata": {
    "collapsed": true
   },
   "outputs": [],
   "source": [
    "#Labels:\n",
    "    #0 = blue collar collectors - average volunteers, average returns\n",
    "    #1 = underperformers - well populated, high incomes, modest returns\n",
    "    #2 = middle of the road - above average incomes, okay returns \n",
    "    #3 = old money - high avg incomes, avg charity donations $5.5k each year, older & newer collecters, fewer streets\n",
    "    #4 = scraping by - collectors in low affluence neighbourhoods often having to chip in themselves to be profitable"
   ]
  },
  {
   "cell_type": "code",
   "execution_count": 26,
   "metadata": {
    "collapsed": false
   },
   "outputs": [
    {
     "data": {
      "text/plain": [
       "0     471.757386\n",
       "1    1392.673060\n",
       "2     656.201786\n",
       "3    5498.532469\n",
       "4     346.168140\n",
       "Name: avg donation value, dtype: float64"
      ]
     },
     "execution_count": 26,
     "metadata": {},
     "output_type": "execute_result"
    }
   ],
   "source": [
    "centroids2['avg donation value']"
   ]
  },
  {
   "cell_type": "code",
   "execution_count": null,
   "metadata": {
    "collapsed": true
   },
   "outputs": [],
   "source": []
  }
 ],
 "metadata": {
  "kernelspec": {
   "display_name": "Python 2",
   "language": "python",
   "name": "python2"
  },
  "language_info": {
   "codemirror_mode": {
    "name": "ipython",
    "version": 2
   },
   "file_extension": ".py",
   "mimetype": "text/x-python",
   "name": "python",
   "nbconvert_exporter": "python",
   "pygments_lexer": "ipython2",
   "version": "2.7.11"
  }
 },
 "nbformat": 4,
 "nbformat_minor": 0
}
