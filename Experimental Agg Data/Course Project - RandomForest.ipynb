{
 "cells": [
  {
   "cell_type": "code",
   "execution_count": 1,
   "metadata": {
    "collapsed": true
   },
   "outputs": [],
   "source": [
    "#import magic and libraries\n",
    "%matplotlib inline\n",
    "\n",
    "import pandas as pd\n",
    "import numpy as np\n",
    "import matplotlib.pyplot as plt\n",
    "plt.style.use('ggplot')"
   ]
  },
  {
   "cell_type": "code",
   "execution_count": 8,
   "metadata": {
    "collapsed": false
   },
   "outputs": [
    {
     "name": "stderr",
     "output_type": "stream",
     "text": [
      "/anaconda/lib/python2.7/site-packages/ipykernel/__main__.py:11: FutureWarning: convert_objects is deprecated.  Use the data-type specific converters pd.to_datetime, pd.to_timedelta and pd.to_numeric.\n"
     ]
    },
    {
     "data": {
      "text/html": [
       "<div>\n",
       "<table border=\"1\" class=\"dataframe\">\n",
       "  <thead>\n",
       "    <tr style=\"text-align: right;\">\n",
       "      <th></th>\n",
       "      <th>postcode</th>\n",
       "      <th>num_streets</th>\n",
       "      <th>collection_amount</th>\n",
       "      <th>donation_amount</th>\n",
       "      <th>total_received</th>\n",
       "      <th>age</th>\n",
       "      <th>weekends</th>\n",
       "      <th>profitable</th>\n",
       "      <th>Acq</th>\n",
       "    </tr>\n",
       "  </thead>\n",
       "  <tbody>\n",
       "    <tr>\n",
       "      <th>0</th>\n",
       "      <td>801</td>\n",
       "      <td>2</td>\n",
       "      <td>315.00</td>\n",
       "      <td>0</td>\n",
       "      <td>315.00</td>\n",
       "      <td>72</td>\n",
       "      <td>4</td>\n",
       "      <td>1</td>\n",
       "      <td>0</td>\n",
       "    </tr>\n",
       "    <tr>\n",
       "      <th>1</th>\n",
       "      <td>801</td>\n",
       "      <td>6</td>\n",
       "      <td>303.55</td>\n",
       "      <td>0</td>\n",
       "      <td>303.55</td>\n",
       "      <td>65</td>\n",
       "      <td>4</td>\n",
       "      <td>1</td>\n",
       "      <td>1</td>\n",
       "    </tr>\n",
       "    <tr>\n",
       "      <th>2</th>\n",
       "      <td>804</td>\n",
       "      <td>4</td>\n",
       "      <td>250.00</td>\n",
       "      <td>0</td>\n",
       "      <td>250.00</td>\n",
       "      <td>80</td>\n",
       "      <td>4</td>\n",
       "      <td>1</td>\n",
       "      <td>0</td>\n",
       "    </tr>\n",
       "    <tr>\n",
       "      <th>3</th>\n",
       "      <td>804</td>\n",
       "      <td>2</td>\n",
       "      <td>28.60</td>\n",
       "      <td>50</td>\n",
       "      <td>78.60</td>\n",
       "      <td>57</td>\n",
       "      <td>4</td>\n",
       "      <td>1</td>\n",
       "      <td>0</td>\n",
       "    </tr>\n",
       "    <tr>\n",
       "      <th>5</th>\n",
       "      <td>810</td>\n",
       "      <td>2</td>\n",
       "      <td>521.50</td>\n",
       "      <td>0</td>\n",
       "      <td>521.50</td>\n",
       "      <td>67</td>\n",
       "      <td>4</td>\n",
       "      <td>1</td>\n",
       "      <td>1</td>\n",
       "    </tr>\n",
       "  </tbody>\n",
       "</table>\n",
       "</div>"
      ],
      "text/plain": [
       "  postcode  num_streets  collection_amount  donation_amount  total_received  \\\n",
       "0      801            2             315.00                0          315.00   \n",
       "1      801            6             303.55                0          303.55   \n",
       "2      804            4             250.00                0          250.00   \n",
       "3      804            2              28.60               50           78.60   \n",
       "5      810            2             521.50                0          521.50   \n",
       "\n",
       "   age  weekends  profitable  Acq  \n",
       "0   72         4           1    0  \n",
       "1   65         4           1    1  \n",
       "2   80         4           1    0  \n",
       "3   57         4           1    0  \n",
       "5   67         4           1    1  "
      ]
     },
     "execution_count": 8,
     "metadata": {},
     "output_type": "execute_result"
    }
   ],
   "source": [
    "#import data set and clean up\n",
    "charity = pd.read_csv('Charity.csv')\n",
    "dummies = pd.get_dummies(charity.RenewalsOrAcq)\n",
    "charity = pd.concat([charity, dummies], axis=1)\n",
    "charity.drop(['Renewals'], inplace=True, axis=1)\n",
    "charity.drop(['dob'], inplace=True, axis=1)\n",
    "charity.drop(['RenewalsOrAcq'], inplace=True, axis=1)\n",
    "charity.drop(['suburb'], inplace=True, axis=1)\n",
    "charity.drop(['state'], inplace=True, axis=1)\n",
    "charity = charity.dropna(subset=['age'])\n",
    "charity['age'] = charity['age'].convert_objects(convert_numeric=True)\n",
    "charity = charity.dropna(subset=['age'])\n",
    "charity['postcode'] = charity['postcode'].astype(str)\n",
    "charity.head()"
   ]
  },
  {
   "cell_type": "code",
   "execution_count": 9,
   "metadata": {
    "collapsed": false
   },
   "outputs": [
    {
     "data": {
      "text/html": [
       "<div>\n",
       "<table border=\"1\" class=\"dataframe\">\n",
       "  <thead>\n",
       "    <tr style=\"text-align: right;\">\n",
       "      <th></th>\n",
       "      <th>postcode</th>\n",
       "      <th>num_streets</th>\n",
       "      <th>collection_amount</th>\n",
       "      <th>donation_amount</th>\n",
       "      <th>total_received</th>\n",
       "      <th>age</th>\n",
       "      <th>weekends</th>\n",
       "      <th>profitable</th>\n",
       "      <th>Acq</th>\n",
       "    </tr>\n",
       "  </thead>\n",
       "  <tbody>\n",
       "    <tr>\n",
       "      <th>count</th>\n",
       "      <td>26597</td>\n",
       "      <td>26597.000000</td>\n",
       "      <td>26597.000000</td>\n",
       "      <td>26597.000000</td>\n",
       "      <td>26597.000000</td>\n",
       "      <td>26597.000000</td>\n",
       "      <td>26597.000000</td>\n",
       "      <td>26597.000000</td>\n",
       "      <td>26597.000000</td>\n",
       "    </tr>\n",
       "    <tr>\n",
       "      <th>unique</th>\n",
       "      <td>1772</td>\n",
       "      <td>NaN</td>\n",
       "      <td>NaN</td>\n",
       "      <td>NaN</td>\n",
       "      <td>NaN</td>\n",
       "      <td>NaN</td>\n",
       "      <td>NaN</td>\n",
       "      <td>NaN</td>\n",
       "      <td>NaN</td>\n",
       "    </tr>\n",
       "    <tr>\n",
       "      <th>top</th>\n",
       "      <td>4350</td>\n",
       "      <td>NaN</td>\n",
       "      <td>NaN</td>\n",
       "      <td>NaN</td>\n",
       "      <td>NaN</td>\n",
       "      <td>NaN</td>\n",
       "      <td>NaN</td>\n",
       "      <td>NaN</td>\n",
       "      <td>NaN</td>\n",
       "    </tr>\n",
       "    <tr>\n",
       "      <th>freq</th>\n",
       "      <td>230</td>\n",
       "      <td>NaN</td>\n",
       "      <td>NaN</td>\n",
       "      <td>NaN</td>\n",
       "      <td>NaN</td>\n",
       "      <td>NaN</td>\n",
       "      <td>NaN</td>\n",
       "      <td>NaN</td>\n",
       "      <td>NaN</td>\n",
       "    </tr>\n",
       "    <tr>\n",
       "      <th>mean</th>\n",
       "      <td>NaN</td>\n",
       "      <td>2.881716</td>\n",
       "      <td>77.967018</td>\n",
       "      <td>3.738053</td>\n",
       "      <td>81.705071</td>\n",
       "      <td>62.471858</td>\n",
       "      <td>3.352859</td>\n",
       "      <td>0.414107</td>\n",
       "      <td>0.613979</td>\n",
       "    </tr>\n",
       "    <tr>\n",
       "      <th>std</th>\n",
       "      <td>NaN</td>\n",
       "      <td>2.548462</td>\n",
       "      <td>71.066831</td>\n",
       "      <td>18.735377</td>\n",
       "      <td>70.878127</td>\n",
       "      <td>14.066151</td>\n",
       "      <td>0.870711</td>\n",
       "      <td>0.492576</td>\n",
       "      <td>0.486845</td>\n",
       "    </tr>\n",
       "    <tr>\n",
       "      <th>min</th>\n",
       "      <td>NaN</td>\n",
       "      <td>0.000000</td>\n",
       "      <td>-414.950000</td>\n",
       "      <td>-150.000000</td>\n",
       "      <td>-500.000000</td>\n",
       "      <td>0.000000</td>\n",
       "      <td>2.000000</td>\n",
       "      <td>0.000000</td>\n",
       "      <td>0.000000</td>\n",
       "    </tr>\n",
       "    <tr>\n",
       "      <th>25%</th>\n",
       "      <td>NaN</td>\n",
       "      <td>1.000000</td>\n",
       "      <td>37.000000</td>\n",
       "      <td>0.000000</td>\n",
       "      <td>40.000000</td>\n",
       "      <td>54.000000</td>\n",
       "      <td>2.000000</td>\n",
       "      <td>0.000000</td>\n",
       "      <td>0.000000</td>\n",
       "    </tr>\n",
       "    <tr>\n",
       "      <th>50%</th>\n",
       "      <td>NaN</td>\n",
       "      <td>2.000000</td>\n",
       "      <td>61.000000</td>\n",
       "      <td>0.000000</td>\n",
       "      <td>64.000000</td>\n",
       "      <td>65.000000</td>\n",
       "      <td>4.000000</td>\n",
       "      <td>0.000000</td>\n",
       "      <td>1.000000</td>\n",
       "    </tr>\n",
       "    <tr>\n",
       "      <th>75%</th>\n",
       "      <td>NaN</td>\n",
       "      <td>3.000000</td>\n",
       "      <td>100.000000</td>\n",
       "      <td>0.000000</td>\n",
       "      <td>101.300000</td>\n",
       "      <td>72.000000</td>\n",
       "      <td>4.000000</td>\n",
       "      <td>1.000000</td>\n",
       "      <td>1.000000</td>\n",
       "    </tr>\n",
       "    <tr>\n",
       "      <th>max</th>\n",
       "      <td>NaN</td>\n",
       "      <td>40.000000</td>\n",
       "      <td>2123.000000</td>\n",
       "      <td>1000.000000</td>\n",
       "      <td>2123.000000</td>\n",
       "      <td>103.000000</td>\n",
       "      <td>4.000000</td>\n",
       "      <td>1.000000</td>\n",
       "      <td>1.000000</td>\n",
       "    </tr>\n",
       "  </tbody>\n",
       "</table>\n",
       "</div>"
      ],
      "text/plain": [
       "       postcode   num_streets  collection_amount  donation_amount  \\\n",
       "count     26597  26597.000000       26597.000000     26597.000000   \n",
       "unique     1772           NaN                NaN              NaN   \n",
       "top        4350           NaN                NaN              NaN   \n",
       "freq        230           NaN                NaN              NaN   \n",
       "mean        NaN      2.881716          77.967018         3.738053   \n",
       "std         NaN      2.548462          71.066831        18.735377   \n",
       "min         NaN      0.000000        -414.950000      -150.000000   \n",
       "25%         NaN      1.000000          37.000000         0.000000   \n",
       "50%         NaN      2.000000          61.000000         0.000000   \n",
       "75%         NaN      3.000000         100.000000         0.000000   \n",
       "max         NaN     40.000000        2123.000000      1000.000000   \n",
       "\n",
       "        total_received           age      weekends    profitable           Acq  \n",
       "count     26597.000000  26597.000000  26597.000000  26597.000000  26597.000000  \n",
       "unique             NaN           NaN           NaN           NaN           NaN  \n",
       "top                NaN           NaN           NaN           NaN           NaN  \n",
       "freq               NaN           NaN           NaN           NaN           NaN  \n",
       "mean         81.705071     62.471858      3.352859      0.414107      0.613979  \n",
       "std          70.878127     14.066151      0.870711      0.492576      0.486845  \n",
       "min        -500.000000      0.000000      2.000000      0.000000      0.000000  \n",
       "25%          40.000000     54.000000      2.000000      0.000000      0.000000  \n",
       "50%          64.000000     65.000000      4.000000      0.000000      1.000000  \n",
       "75%         101.300000     72.000000      4.000000      1.000000      1.000000  \n",
       "max        2123.000000    103.000000      4.000000      1.000000      1.000000  "
      ]
     },
     "execution_count": 9,
     "metadata": {},
     "output_type": "execute_result"
    }
   ],
   "source": [
    "#have a look at the data\n",
    "charity.describe(include='all')"
   ]
  },
  {
   "cell_type": "code",
   "execution_count": 10,
   "metadata": {
    "collapsed": false
   },
   "outputs": [
    {
     "data": {
      "text/html": [
       "<div>\n",
       "<table border=\"1\" class=\"dataframe\">\n",
       "  <thead>\n",
       "    <tr style=\"text-align: right;\">\n",
       "      <th></th>\n",
       "      <th>num_streets</th>\n",
       "      <th>collection_amount</th>\n",
       "      <th>donation_amount</th>\n",
       "      <th>total_received</th>\n",
       "      <th>age</th>\n",
       "      <th>weekends</th>\n",
       "      <th>profitable</th>\n",
       "      <th>Acq</th>\n",
       "    </tr>\n",
       "  </thead>\n",
       "  <tbody>\n",
       "    <tr>\n",
       "      <th>num_streets</th>\n",
       "      <td>1.000000</td>\n",
       "      <td>-0.020782</td>\n",
       "      <td>-0.011124</td>\n",
       "      <td>-0.023778</td>\n",
       "      <td>-0.005437</td>\n",
       "      <td>0.020047</td>\n",
       "      <td>-0.034242</td>\n",
       "      <td>0.058324</td>\n",
       "    </tr>\n",
       "    <tr>\n",
       "      <th>collection_amount</th>\n",
       "      <td>-0.020782</td>\n",
       "      <td>1.000000</td>\n",
       "      <td>-0.141874</td>\n",
       "      <td>0.965161</td>\n",
       "      <td>0.176009</td>\n",
       "      <td>0.091123</td>\n",
       "      <td>0.631454</td>\n",
       "      <td>-0.174396</td>\n",
       "    </tr>\n",
       "    <tr>\n",
       "      <th>donation_amount</th>\n",
       "      <td>-0.011124</td>\n",
       "      <td>-0.141874</td>\n",
       "      <td>1.000000</td>\n",
       "      <td>0.122081</td>\n",
       "      <td>0.041046</td>\n",
       "      <td>0.046338</td>\n",
       "      <td>0.061930</td>\n",
       "      <td>0.032654</td>\n",
       "    </tr>\n",
       "    <tr>\n",
       "      <th>total_received</th>\n",
       "      <td>-0.023778</td>\n",
       "      <td>0.965161</td>\n",
       "      <td>0.122081</td>\n",
       "      <td>1.000000</td>\n",
       "      <td>0.187327</td>\n",
       "      <td>0.103615</td>\n",
       "      <td>0.649506</td>\n",
       "      <td>-0.166229</td>\n",
       "    </tr>\n",
       "    <tr>\n",
       "      <th>age</th>\n",
       "      <td>-0.005437</td>\n",
       "      <td>0.176009</td>\n",
       "      <td>0.041046</td>\n",
       "      <td>0.187327</td>\n",
       "      <td>1.000000</td>\n",
       "      <td>0.124830</td>\n",
       "      <td>0.186369</td>\n",
       "      <td>-0.117583</td>\n",
       "    </tr>\n",
       "    <tr>\n",
       "      <th>weekends</th>\n",
       "      <td>0.020047</td>\n",
       "      <td>0.091123</td>\n",
       "      <td>0.046338</td>\n",
       "      <td>0.103615</td>\n",
       "      <td>0.124830</td>\n",
       "      <td>1.000000</td>\n",
       "      <td>0.107270</td>\n",
       "      <td>-0.054035</td>\n",
       "    </tr>\n",
       "    <tr>\n",
       "      <th>profitable</th>\n",
       "      <td>-0.034242</td>\n",
       "      <td>0.631454</td>\n",
       "      <td>0.061930</td>\n",
       "      <td>0.649506</td>\n",
       "      <td>0.186369</td>\n",
       "      <td>0.107270</td>\n",
       "      <td>1.000000</td>\n",
       "      <td>-0.153555</td>\n",
       "    </tr>\n",
       "    <tr>\n",
       "      <th>Acq</th>\n",
       "      <td>0.058324</td>\n",
       "      <td>-0.174396</td>\n",
       "      <td>0.032654</td>\n",
       "      <td>-0.166229</td>\n",
       "      <td>-0.117583</td>\n",
       "      <td>-0.054035</td>\n",
       "      <td>-0.153555</td>\n",
       "      <td>1.000000</td>\n",
       "    </tr>\n",
       "  </tbody>\n",
       "</table>\n",
       "</div>"
      ],
      "text/plain": [
       "                   num_streets  collection_amount  donation_amount  \\\n",
       "num_streets           1.000000          -0.020782        -0.011124   \n",
       "collection_amount    -0.020782           1.000000        -0.141874   \n",
       "donation_amount      -0.011124          -0.141874         1.000000   \n",
       "total_received       -0.023778           0.965161         0.122081   \n",
       "age                  -0.005437           0.176009         0.041046   \n",
       "weekends              0.020047           0.091123         0.046338   \n",
       "profitable           -0.034242           0.631454         0.061930   \n",
       "Acq                   0.058324          -0.174396         0.032654   \n",
       "\n",
       "                   total_received       age  weekends  profitable       Acq  \n",
       "num_streets             -0.023778 -0.005437  0.020047   -0.034242  0.058324  \n",
       "collection_amount        0.965161  0.176009  0.091123    0.631454 -0.174396  \n",
       "donation_amount          0.122081  0.041046  0.046338    0.061930  0.032654  \n",
       "total_received           1.000000  0.187327  0.103615    0.649506 -0.166229  \n",
       "age                      0.187327  1.000000  0.124830    0.186369 -0.117583  \n",
       "weekends                 0.103615  0.124830  1.000000    0.107270 -0.054035  \n",
       "profitable               0.649506  0.186369  0.107270    1.000000 -0.153555  \n",
       "Acq                     -0.166229 -0.117583 -0.054035   -0.153555  1.000000  "
      ]
     },
     "execution_count": 10,
     "metadata": {},
     "output_type": "execute_result"
    }
   ],
   "source": [
    "#look for any correlations\n",
    "charity.corr()"
   ]
  },
  {
   "cell_type": "code",
   "execution_count": 14,
   "metadata": {
    "collapsed": false
   },
   "outputs": [
    {
     "name": "stdout",
     "output_type": "stream",
     "text": [
      "0.0637056411947\n"
     ]
    }
   ],
   "source": [
    "from sklearn.cross_validation import train_test_split\n",
    "from sklearn.linear_model import LinearRegression\n",
    "\n",
    "feature_cols = ['age', 'num_streets', 'weekends', 'Acq', 'postcode']\n",
    "X = charity[feature_cols]\n",
    "y = charity.total_received\n",
    "X_train, X_test, y_train, y_test = train_test_split(X, y, random_state=1)\n",
    "linreg = LinearRegression()\n",
    "linreg.fit(X_train, y_train)\n",
    "\n",
    "y_pred_class = linreg.predict(X_test)\n",
    "from sklearn import metrics\n",
    "print metrics.r2_score(y_test, y_pred_class)\n"
   ]
  },
  {
   "cell_type": "code",
   "execution_count": 15,
   "metadata": {
    "collapsed": false
   },
   "outputs": [
    {
     "name": "stdout",
     "output_type": "stream",
     "text": [
      "Index([u'postcode', u'num_streets', u'collection_amount', u'donation_amount',\n",
      "       u'total_received', u'age', u'weekends', u'profitable', u'Acq',\n",
      "       u'tax individuals', u'avg tax income', u'avg gross tax paid',\n",
      "       u'avg net tax paid', u'avg salary', u'no pensions', u'avg pension',\n",
      "       u'avg income', u'no donations', u'value donations',\n",
      "       u'avg donation value'],\n",
      "      dtype='object')\n"
     ]
    }
   ],
   "source": [
    "#add in ATO data and see if I can improve my model\n",
    "tax = pd.read_csv('2014tax2.csv')\n",
    "tax['postcode'] = tax['postcode'].astype(str)\n",
    "charity_new = pd.merge(charity, tax, on='postcode')\n",
    "charity_new.head()\n",
    "print charity_new.columns\n",
    "\n"
   ]
  },
  {
   "cell_type": "code",
   "execution_count": 16,
   "metadata": {
    "collapsed": false
   },
   "outputs": [
    {
     "name": "stdout",
     "output_type": "stream",
     "text": [
      "0.0993599548147\n"
     ]
    }
   ],
   "source": [
    "feature_cols = ['age', 'Acq', 'postcode', 'avg donation value', 'no donations', 'avg tax income']\n",
    "X = charity_new[feature_cols]\n",
    "y = charity_new.total_received\n",
    "X_train, X_test, y_train, y_test = train_test_split(X, y, random_state=1)\n",
    "linreg = LinearRegression()\n",
    "linreg.fit(X_train, y_train)\n",
    "\n",
    "y_pred_class = linreg.predict(X_test)\n",
    "from sklearn import metrics\n",
    "print metrics.r2_score(y_test, y_pred_class)"
   ]
  },
  {
   "cell_type": "code",
   "execution_count": 21,
   "metadata": {
    "collapsed": false
   },
   "outputs": [
    {
     "name": "stdout",
     "output_type": "stream",
     "text": [
      "0.102058468842\n"
     ]
    }
   ],
   "source": [
    "#X = charity_new.filter(regex=\"[^total_received|^collection_amount|^donation_amount]\")\n",
    "X = charity_new.filter(regex=\"[^total_received|^collection_amount|^donation_amount|^profitable]\")\n",
    "y = charity_new.total_received\n",
    "X_train, X_test, y_train, y_test = train_test_split(X, y, random_state=1)\n",
    "linreg = LinearRegression()\n",
    "linreg.fit(X_train, y_train)\n",
    "\n",
    "y_pred_class = linreg.predict(X_test)\n",
    "from sklearn import metrics\n",
    "print metrics.r2_score(y_test, y_pred_class)"
   ]
  },
  {
   "cell_type": "code",
   "execution_count": 23,
   "metadata": {
    "collapsed": false
   },
   "outputs": [
    {
     "name": "stdout",
     "output_type": "stream",
     "text": [
      "('Coefficients: \\n', array([ -4.70462402e-03,   3.66004264e-01,   8.08894986e-01,\n",
      "         3.95121523e+00,  -2.12703638e+01,   9.42851949e-04,\n",
      "         9.03273620e-03,  -5.56748393e-03,  -4.49999525e-03,\n",
      "        -5.86257208e-04,  -1.41268416e-02,  -2.29381599e-04,\n",
      "        -3.97364360e-03,  -2.00821215e-03,   1.09501961e-06,\n",
      "        -5.75516007e-04]))\n",
      "Residual sum of squares: 4068.82\n",
      "Variance score: 0.10\n"
     ]
    }
   ],
   "source": [
    "from sklearn import linear_model\n",
    "\n",
    "# The coefficients\n",
    "print('Coefficients: \\n', linreg.coef_)\n",
    "# The mean square error\n",
    "print(\"Residual sum of squares: %.2f\"\n",
    "      % np.mean((linreg.predict(X_test) - y_test) ** 2))\n",
    "# Explained variance score: 1 is perfect prediction\n",
    "print('Variance score: %.2f' % linreg.score(X_test, y_test))"
   ]
  },
  {
   "cell_type": "code",
   "execution_count": 24,
   "metadata": {
    "collapsed": false
   },
   "outputs": [
    {
     "name": "stdout",
     "output_type": "stream",
     "text": [
      "[ 0.01488777  0.01567767  0.02370409  0.06592724  0.04152667  0.09522366\n",
      "  0.03928696  0.05118205  0.06125715  0.06946681  0.04870453  0.063594\n",
      "  0.060155   -0.38258146  0.08738936  0.07881185  0.04207142  0.06293442\n",
      "  0.01173662  0.09966596  0.04069153  0.04586949  0.04856146  0.06955606\n",
      "  0.09917994  0.02666496  0.06560108  0.04776459 -0.00835429  0.1329974\n",
      "  0.12200442 -0.01378303  0.07843217 -0.01285094 -0.00406372  0.03225533\n",
      "  0.05358413  0.05159167  0.06228723  0.12787676  0.05951514  0.09963621\n",
      "  0.05427837  0.06788288  0.09094315  0.04264327  0.07814995  0.07158381\n",
      "  0.08459726  0.00909945  0.01228254  0.00768033  0.08893874  0.04138621\n",
      "  0.05732362  0.0768205   0.05916222 -0.01488988  0.03213476 -0.08843557\n",
      " -0.04210335  0.07744621  0.00435551  0.06957039 -0.029769   -0.0398822\n",
      " -0.05574992 -0.06484123  0.03412308 -0.06857012  0.03544881  0.06218148\n",
      "  0.0646901   0.01787141 -0.00678724  0.00634505 -0.02119229  0.01127672\n",
      "  0.00304973  0.07961486  0.04399712  0.07001123  0.06862668  0.04778849\n",
      "  0.12942046  0.04352511  0.0279301   0.02806463  0.03094083  0.07289927\n",
      "  0.07518198  0.09832875 -0.00662436  0.05909239  0.07541402  0.07945688\n",
      "  0.04873085  0.09627226 -0.0464438  -0.00518289]\n",
      "0.0382172902145\n"
     ]
    }
   ],
   "source": [
    "# evaluate the model using 10-fold cross-validation\n",
    "from sklearn.cross_validation import cross_val_score\n",
    "scores = cross_val_score(LinearRegression(), X, y, scoring='r2', cv=100)\n",
    "print scores\n",
    "print scores.mean()"
   ]
  },
  {
   "cell_type": "code",
   "execution_count": null,
   "metadata": {
    "collapsed": false
   },
   "outputs": [],
   "source": [
    "#this is really bad - linear regression not really doing it for me.."
   ]
  },
  {
   "cell_type": "code",
   "execution_count": 25,
   "metadata": {
    "collapsed": false
   },
   "outputs": [
    {
     "ename": "ValueError",
     "evalue": "Unknown label type: array([[ 49. ],\n       [ 84. ],\n       [ 72.2],\n       ..., \n       [ 30. ],\n       [ 41. ],\n       [ 94. ]])",
     "output_type": "error",
     "traceback": [
      "\u001b[0;31m---------------------------------------------------------------------------\u001b[0m",
      "\u001b[0;31mValueError\u001b[0m                                Traceback (most recent call last)",
      "\u001b[0;32m<ipython-input-25-1f7656f2edfc>\u001b[0m in \u001b[0;36m<module>\u001b[0;34m()\u001b[0m\n\u001b[1;32m     17\u001b[0m \u001b[0;34m\u001b[0m\u001b[0m\n\u001b[1;32m     18\u001b[0m \u001b[0;32mif\u001b[0m \u001b[0m__name__\u001b[0m\u001b[0;34m==\u001b[0m\u001b[0;34m\"__main__\"\u001b[0m\u001b[0;34m:\u001b[0m\u001b[0;34m\u001b[0m\u001b[0m\n\u001b[0;32m---> 19\u001b[0;31m     \u001b[0mmain\u001b[0m\u001b[0;34m(\u001b[0m\u001b[0;34m)\u001b[0m\u001b[0;34m\u001b[0m\u001b[0m\n\u001b[0m",
      "\u001b[0;32m<ipython-input-25-1f7656f2edfc>\u001b[0m in \u001b[0;36mmain\u001b[0;34m()\u001b[0m\n\u001b[1;32m     12\u001b[0m     \u001b[0;31m#multi-core CPUs can use: rf = RandomForestClassifier(n_estimators=100, n_jobs=2)\u001b[0m\u001b[0;34m\u001b[0m\u001b[0;34m\u001b[0m\u001b[0m\n\u001b[1;32m     13\u001b[0m     \u001b[0mrf\u001b[0m \u001b[0;34m=\u001b[0m \u001b[0mRandomForestClassifier\u001b[0m\u001b[0;34m(\u001b[0m\u001b[0mn_estimators\u001b[0m\u001b[0;34m=\u001b[0m\u001b[0;36m100\u001b[0m\u001b[0;34m)\u001b[0m\u001b[0;34m\u001b[0m\u001b[0m\n\u001b[0;32m---> 14\u001b[0;31m     \u001b[0mrf\u001b[0m\u001b[0;34m.\u001b[0m\u001b[0mfit\u001b[0m\u001b[0;34m(\u001b[0m\u001b[0mtrain\u001b[0m\u001b[0;34m,\u001b[0m \u001b[0mtarget\u001b[0m\u001b[0;34m)\u001b[0m\u001b[0;34m\u001b[0m\u001b[0m\n\u001b[0m\u001b[1;32m     15\u001b[0m \u001b[0;34m\u001b[0m\u001b[0m\n\u001b[1;32m     16\u001b[0m     \u001b[0msavetxt\u001b[0m\u001b[0;34m(\u001b[0m\u001b[0;34m'Data/submission2.csv'\u001b[0m\u001b[0;34m,\u001b[0m \u001b[0mrf\u001b[0m\u001b[0;34m.\u001b[0m\u001b[0mpredict\u001b[0m\u001b[0;34m(\u001b[0m\u001b[0mtest\u001b[0m\u001b[0;34m)\u001b[0m\u001b[0;34m,\u001b[0m \u001b[0mdelimiter\u001b[0m\u001b[0;34m=\u001b[0m\u001b[0;34m','\u001b[0m\u001b[0;34m,\u001b[0m \u001b[0mfmt\u001b[0m\u001b[0;34m=\u001b[0m\u001b[0;34m'%f'\u001b[0m\u001b[0;34m)\u001b[0m\u001b[0;34m\u001b[0m\u001b[0m\n",
      "\u001b[0;32m//anaconda/lib/python2.7/site-packages/sklearn/ensemble/forest.pyc\u001b[0m in \u001b[0;36mfit\u001b[0;34m(self, X, y, sample_weight)\u001b[0m\n\u001b[1;32m    233\u001b[0m         \u001b[0mself\u001b[0m\u001b[0;34m.\u001b[0m\u001b[0mn_outputs_\u001b[0m \u001b[0;34m=\u001b[0m \u001b[0my\u001b[0m\u001b[0;34m.\u001b[0m\u001b[0mshape\u001b[0m\u001b[0;34m[\u001b[0m\u001b[0;36m1\u001b[0m\u001b[0;34m]\u001b[0m\u001b[0;34m\u001b[0m\u001b[0m\n\u001b[1;32m    234\u001b[0m \u001b[0;34m\u001b[0m\u001b[0m\n\u001b[0;32m--> 235\u001b[0;31m         \u001b[0my\u001b[0m\u001b[0;34m,\u001b[0m \u001b[0mexpanded_class_weight\u001b[0m \u001b[0;34m=\u001b[0m \u001b[0mself\u001b[0m\u001b[0;34m.\u001b[0m\u001b[0m_validate_y_class_weight\u001b[0m\u001b[0;34m(\u001b[0m\u001b[0my\u001b[0m\u001b[0;34m)\u001b[0m\u001b[0;34m\u001b[0m\u001b[0m\n\u001b[0m\u001b[1;32m    236\u001b[0m \u001b[0;34m\u001b[0m\u001b[0m\n\u001b[1;32m    237\u001b[0m         \u001b[0;32mif\u001b[0m \u001b[0mgetattr\u001b[0m\u001b[0;34m(\u001b[0m\u001b[0my\u001b[0m\u001b[0;34m,\u001b[0m \u001b[0;34m\"dtype\"\u001b[0m\u001b[0;34m,\u001b[0m \u001b[0mNone\u001b[0m\u001b[0;34m)\u001b[0m \u001b[0;34m!=\u001b[0m \u001b[0mDOUBLE\u001b[0m \u001b[0;32mor\u001b[0m \u001b[0;32mnot\u001b[0m \u001b[0my\u001b[0m\u001b[0;34m.\u001b[0m\u001b[0mflags\u001b[0m\u001b[0;34m.\u001b[0m\u001b[0mcontiguous\u001b[0m\u001b[0;34m:\u001b[0m\u001b[0;34m\u001b[0m\u001b[0m\n",
      "\u001b[0;32m//anaconda/lib/python2.7/site-packages/sklearn/ensemble/forest.pyc\u001b[0m in \u001b[0;36m_validate_y_class_weight\u001b[0;34m(self, y)\u001b[0m\n\u001b[1;32m    419\u001b[0m \u001b[0;34m\u001b[0m\u001b[0m\n\u001b[1;32m    420\u001b[0m     \u001b[0;32mdef\u001b[0m \u001b[0m_validate_y_class_weight\u001b[0m\u001b[0;34m(\u001b[0m\u001b[0mself\u001b[0m\u001b[0;34m,\u001b[0m \u001b[0my\u001b[0m\u001b[0;34m)\u001b[0m\u001b[0;34m:\u001b[0m\u001b[0;34m\u001b[0m\u001b[0m\n\u001b[0;32m--> 421\u001b[0;31m         \u001b[0mcheck_classification_targets\u001b[0m\u001b[0;34m(\u001b[0m\u001b[0my\u001b[0m\u001b[0;34m)\u001b[0m\u001b[0;34m\u001b[0m\u001b[0m\n\u001b[0m\u001b[1;32m    422\u001b[0m \u001b[0;34m\u001b[0m\u001b[0m\n\u001b[1;32m    423\u001b[0m         \u001b[0my\u001b[0m \u001b[0;34m=\u001b[0m \u001b[0mnp\u001b[0m\u001b[0;34m.\u001b[0m\u001b[0mcopy\u001b[0m\u001b[0;34m(\u001b[0m\u001b[0my\u001b[0m\u001b[0;34m)\u001b[0m\u001b[0;34m\u001b[0m\u001b[0m\n",
      "\u001b[0;32m//anaconda/lib/python2.7/site-packages/sklearn/utils/multiclass.pyc\u001b[0m in \u001b[0;36mcheck_classification_targets\u001b[0;34m(y)\u001b[0m\n\u001b[1;32m    171\u001b[0m     if y_type not in ['binary', 'multiclass', 'multiclass-multioutput', \n\u001b[1;32m    172\u001b[0m             'multilabel-indicator', 'multilabel-sequences']:\n\u001b[0;32m--> 173\u001b[0;31m         \u001b[0;32mraise\u001b[0m \u001b[0mValueError\u001b[0m\u001b[0;34m(\u001b[0m\u001b[0;34m\"Unknown label type: %r\"\u001b[0m \u001b[0;34m%\u001b[0m \u001b[0my\u001b[0m\u001b[0;34m)\u001b[0m\u001b[0;34m\u001b[0m\u001b[0m\n\u001b[0m\u001b[1;32m    174\u001b[0m \u001b[0;34m\u001b[0m\u001b[0m\n\u001b[1;32m    175\u001b[0m \u001b[0;34m\u001b[0m\u001b[0m\n",
      "\u001b[0;31mValueError\u001b[0m: Unknown label type: array([[ 49. ],\n       [ 84. ],\n       [ 72.2],\n       ..., \n       [ 30. ],\n       [ 41. ],\n       [ 94. ]])"
     ]
    }
   ],
   "source": [
    "from sklearn.ensemble import RandomForestClassifier\n",
    "from numpy import genfromtxt, savetxt\n",
    "\n",
    "def main():\n",
    "    #create the training & test sets, skipping the header row with [1:]\n",
    "    dataset = charity_new[1:]    \n",
    "    target = y_train\n",
    "    train = X_train\n",
    "    test = X_test\n",
    "    \n",
    "    #create and train the random forest\n",
    "    #multi-core CPUs can use: rf = RandomForestClassifier(n_estimators=100, n_jobs=2)\n",
    "    rf = RandomForestClassifier(n_estimators=100)\n",
    "    rf.fit(train, target)\n",
    "\n",
    "    savetxt('Data/submission2.csv', rf.predict(test), delimiter=',', fmt='%f')\n",
    "\n",
    "if __name__==\"__main__\":\n",
    "    main()"
   ]
  }
 ],
 "metadata": {
  "kernelspec": {
   "display_name": "Python 2",
   "language": "python",
   "name": "python2"
  },
  "language_info": {
   "codemirror_mode": {
    "name": "ipython",
    "version": 2
   },
   "file_extension": ".py",
   "mimetype": "text/x-python",
   "name": "python",
   "nbconvert_exporter": "python",
   "pygments_lexer": "ipython2",
   "version": "2.7.11"
  }
 },
 "nbformat": 4,
 "nbformat_minor": 0
}
